{
 "cells": [
  {
   "cell_type": "code",
   "execution_count": 1,
   "metadata": {},
   "outputs": [],
   "source": [
    "import numpy as np \n",
    "import pandas as pd\n",
    "import seaborn as sns\n",
    "import matplotlib.pyplot as plt"
   ]
  },
  {
   "cell_type": "code",
   "execution_count": 2,
   "metadata": {
    "pycharm": {
     "name": "#%%\n"
    }
   },
   "outputs": [
    {
     "name": "stderr",
     "output_type": "stream",
     "text": [
      "c:\\users\\sumit\\pycharmprojects\\pythonlearning\\venv\\lib\\site-packages\\IPython\\core\\interactiveshell.py:3062: DtypeWarning: Columns (2) have mixed types.Specify dtype option on import or set low_memory=False.\n",
      "  has_raised = await self.run_ast_nodes(code_ast.body, cell_name,\n"
     ]
    },
    {
     "data": {
      "text/html": [
       "<div>\n",
       "<style scoped>\n",
       "    .dataframe tbody tr th:only-of-type {\n",
       "        vertical-align: middle;\n",
       "    }\n",
       "\n",
       "    .dataframe tbody tr th {\n",
       "        vertical-align: top;\n",
       "    }\n",
       "\n",
       "    .dataframe thead th {\n",
       "        text-align: right;\n",
       "    }\n",
       "</style>\n",
       "<table border=\"1\" class=\"dataframe\">\n",
       "  <thead>\n",
       "    <tr style=\"text-align: right;\">\n",
       "      <th></th>\n",
       "      <th>Region</th>\n",
       "      <th>Country</th>\n",
       "      <th>State</th>\n",
       "      <th>City</th>\n",
       "      <th>Month</th>\n",
       "      <th>Day</th>\n",
       "      <th>Year</th>\n",
       "      <th>AvgTemperature</th>\n",
       "    </tr>\n",
       "  </thead>\n",
       "  <tbody>\n",
       "    <tr>\n",
       "      <th>0</th>\n",
       "      <td>Africa</td>\n",
       "      <td>Algeria</td>\n",
       "      <td>NaN</td>\n",
       "      <td>Algiers</td>\n",
       "      <td>1</td>\n",
       "      <td>1</td>\n",
       "      <td>1995</td>\n",
       "      <td>64.2</td>\n",
       "    </tr>\n",
       "    <tr>\n",
       "      <th>1</th>\n",
       "      <td>Africa</td>\n",
       "      <td>Algeria</td>\n",
       "      <td>NaN</td>\n",
       "      <td>Algiers</td>\n",
       "      <td>1</td>\n",
       "      <td>2</td>\n",
       "      <td>1995</td>\n",
       "      <td>49.4</td>\n",
       "    </tr>\n",
       "    <tr>\n",
       "      <th>2</th>\n",
       "      <td>Africa</td>\n",
       "      <td>Algeria</td>\n",
       "      <td>NaN</td>\n",
       "      <td>Algiers</td>\n",
       "      <td>1</td>\n",
       "      <td>3</td>\n",
       "      <td>1995</td>\n",
       "      <td>48.8</td>\n",
       "    </tr>\n",
       "    <tr>\n",
       "      <th>3</th>\n",
       "      <td>Africa</td>\n",
       "      <td>Algeria</td>\n",
       "      <td>NaN</td>\n",
       "      <td>Algiers</td>\n",
       "      <td>1</td>\n",
       "      <td>4</td>\n",
       "      <td>1995</td>\n",
       "      <td>46.4</td>\n",
       "    </tr>\n",
       "    <tr>\n",
       "      <th>4</th>\n",
       "      <td>Africa</td>\n",
       "      <td>Algeria</td>\n",
       "      <td>NaN</td>\n",
       "      <td>Algiers</td>\n",
       "      <td>1</td>\n",
       "      <td>5</td>\n",
       "      <td>1995</td>\n",
       "      <td>47.9</td>\n",
       "    </tr>\n",
       "  </tbody>\n",
       "</table>\n",
       "</div>"
      ],
      "text/plain": [
       "   Region  Country State     City  Month  Day  Year  AvgTemperature\n",
       "0  Africa  Algeria   NaN  Algiers      1    1  1995            64.2\n",
       "1  Africa  Algeria   NaN  Algiers      1    2  1995            49.4\n",
       "2  Africa  Algeria   NaN  Algiers      1    3  1995            48.8\n",
       "3  Africa  Algeria   NaN  Algiers      1    4  1995            46.4\n",
       "4  Africa  Algeria   NaN  Algiers      1    5  1995            47.9"
      ]
     },
     "execution_count": 2,
     "metadata": {},
     "output_type": "execute_result"
    }
   ],
   "source": [
    "df = pd.read_csv('data/city_temperature.csv')\n",
    "df.head()"
   ]
  },
  {
   "cell_type": "code",
   "execution_count": 3,
   "metadata": {
    "pycharm": {
     "name": "#%%\n"
    }
   },
   "outputs": [
    {
     "data": {
      "text/plain": [
       "Region                  0\n",
       "Country                 0\n",
       "State             1450990\n",
       "City                    0\n",
       "Month                   0\n",
       "Day                     0\n",
       "Year                    0\n",
       "AvgTemperature          0\n",
       "dtype: int64"
      ]
     },
     "execution_count": 3,
     "metadata": {},
     "output_type": "execute_result"
    }
   ],
   "source": [
    "df.isna().sum()"
   ]
  },
  {
   "cell_type": "code",
   "execution_count": 4,
   "metadata": {},
   "outputs": [
    {
     "data": {
      "text/html": [
       "<div>\n",
       "<style scoped>\n",
       "    .dataframe tbody tr th:only-of-type {\n",
       "        vertical-align: middle;\n",
       "    }\n",
       "\n",
       "    .dataframe tbody tr th {\n",
       "        vertical-align: top;\n",
       "    }\n",
       "\n",
       "    .dataframe thead th {\n",
       "        text-align: right;\n",
       "    }\n",
       "</style>\n",
       "<table border=\"1\" class=\"dataframe\">\n",
       "  <thead>\n",
       "    <tr style=\"text-align: right;\">\n",
       "      <th></th>\n",
       "      <th>Month</th>\n",
       "      <th>Day</th>\n",
       "      <th>Year</th>\n",
       "      <th>AvgTemperature</th>\n",
       "    </tr>\n",
       "  </thead>\n",
       "  <tbody>\n",
       "    <tr>\n",
       "      <th>count</th>\n",
       "      <td>2.906327e+06</td>\n",
       "      <td>2.906327e+06</td>\n",
       "      <td>2.906327e+06</td>\n",
       "      <td>2.906327e+06</td>\n",
       "    </tr>\n",
       "    <tr>\n",
       "      <th>mean</th>\n",
       "      <td>6.469163e+00</td>\n",
       "      <td>1.571682e+01</td>\n",
       "      <td>2.006624e+03</td>\n",
       "      <td>5.600492e+01</td>\n",
       "    </tr>\n",
       "    <tr>\n",
       "      <th>std</th>\n",
       "      <td>3.456489e+00</td>\n",
       "      <td>8.800534e+00</td>\n",
       "      <td>2.338226e+01</td>\n",
       "      <td>3.212359e+01</td>\n",
       "    </tr>\n",
       "    <tr>\n",
       "      <th>min</th>\n",
       "      <td>1.000000e+00</td>\n",
       "      <td>0.000000e+00</td>\n",
       "      <td>2.000000e+02</td>\n",
       "      <td>-9.900000e+01</td>\n",
       "    </tr>\n",
       "    <tr>\n",
       "      <th>25%</th>\n",
       "      <td>3.000000e+00</td>\n",
       "      <td>8.000000e+00</td>\n",
       "      <td>2.001000e+03</td>\n",
       "      <td>4.580000e+01</td>\n",
       "    </tr>\n",
       "    <tr>\n",
       "      <th>50%</th>\n",
       "      <td>6.000000e+00</td>\n",
       "      <td>1.600000e+01</td>\n",
       "      <td>2.007000e+03</td>\n",
       "      <td>6.250000e+01</td>\n",
       "    </tr>\n",
       "    <tr>\n",
       "      <th>75%</th>\n",
       "      <td>9.000000e+00</td>\n",
       "      <td>2.300000e+01</td>\n",
       "      <td>2.013000e+03</td>\n",
       "      <td>7.550000e+01</td>\n",
       "    </tr>\n",
       "    <tr>\n",
       "      <th>max</th>\n",
       "      <td>1.200000e+01</td>\n",
       "      <td>3.100000e+01</td>\n",
       "      <td>2.020000e+03</td>\n",
       "      <td>1.100000e+02</td>\n",
       "    </tr>\n",
       "  </tbody>\n",
       "</table>\n",
       "</div>"
      ],
      "text/plain": [
       "              Month           Day          Year  AvgTemperature\n",
       "count  2.906327e+06  2.906327e+06  2.906327e+06    2.906327e+06\n",
       "mean   6.469163e+00  1.571682e+01  2.006624e+03    5.600492e+01\n",
       "std    3.456489e+00  8.800534e+00  2.338226e+01    3.212359e+01\n",
       "min    1.000000e+00  0.000000e+00  2.000000e+02   -9.900000e+01\n",
       "25%    3.000000e+00  8.000000e+00  2.001000e+03    4.580000e+01\n",
       "50%    6.000000e+00  1.600000e+01  2.007000e+03    6.250000e+01\n",
       "75%    9.000000e+00  2.300000e+01  2.013000e+03    7.550000e+01\n",
       "max    1.200000e+01  3.100000e+01  2.020000e+03    1.100000e+02"
      ]
     },
     "execution_count": 4,
     "metadata": {},
     "output_type": "execute_result"
    }
   ],
   "source": [
    "df.describe()"
   ]
  },
  {
   "cell_type": "code",
   "execution_count": 5,
   "metadata": {},
   "outputs": [
    {
     "data": {
      "text/plain": [
       "array([1995, 1996, 1997, 1998, 1999, 2000, 2001, 2002, 2003, 2004, 2005,\n",
       "       2006, 2007, 2008, 2009, 2010, 2011, 2012, 2013, 2014, 2015, 2016,\n",
       "       2017, 2018, 2019, 2020,  201,  200], dtype=int64)"
      ]
     },
     "execution_count": 5,
     "metadata": {},
     "output_type": "execute_result"
    }
   ],
   "source": [
    "df['Year'].unique()"
   ]
  },
  {
   "cell_type": "markdown",
   "metadata": {
    "pycharm": {
     "name": "#%% md\n"
    }
   },
   "source": [
    "### Remove the \"State\" Column\n",
    "* The State column has approx 50% null values\n",
    "* There are two errors: 200 & 201, which may be 2000 & 2010 respectively.\n",
    "* Convert Temperature from Farenheit to Celsius"
   ]
  },
  {
   "cell_type": "code",
   "execution_count": 6,
   "metadata": {
    "pycharm": {
     "name": "#%%\n"
    }
   },
   "outputs": [
    {
     "data": {
      "text/html": [
       "<div>\n",
       "<style scoped>\n",
       "    .dataframe tbody tr th:only-of-type {\n",
       "        vertical-align: middle;\n",
       "    }\n",
       "\n",
       "    .dataframe tbody tr th {\n",
       "        vertical-align: top;\n",
       "    }\n",
       "\n",
       "    .dataframe thead th {\n",
       "        text-align: right;\n",
       "    }\n",
       "</style>\n",
       "<table border=\"1\" class=\"dataframe\">\n",
       "  <thead>\n",
       "    <tr style=\"text-align: right;\">\n",
       "      <th></th>\n",
       "      <th>Region</th>\n",
       "      <th>Country</th>\n",
       "      <th>City</th>\n",
       "      <th>Month</th>\n",
       "      <th>Day</th>\n",
       "      <th>Year</th>\n",
       "      <th>AvgTemperature</th>\n",
       "    </tr>\n",
       "  </thead>\n",
       "  <tbody>\n",
       "    <tr>\n",
       "      <th>0</th>\n",
       "      <td>Africa</td>\n",
       "      <td>Algeria</td>\n",
       "      <td>Algiers</td>\n",
       "      <td>1</td>\n",
       "      <td>1</td>\n",
       "      <td>1995</td>\n",
       "      <td>17.888889</td>\n",
       "    </tr>\n",
       "    <tr>\n",
       "      <th>1</th>\n",
       "      <td>Africa</td>\n",
       "      <td>Algeria</td>\n",
       "      <td>Algiers</td>\n",
       "      <td>1</td>\n",
       "      <td>2</td>\n",
       "      <td>1995</td>\n",
       "      <td>9.666667</td>\n",
       "    </tr>\n",
       "    <tr>\n",
       "      <th>2</th>\n",
       "      <td>Africa</td>\n",
       "      <td>Algeria</td>\n",
       "      <td>Algiers</td>\n",
       "      <td>1</td>\n",
       "      <td>3</td>\n",
       "      <td>1995</td>\n",
       "      <td>9.333333</td>\n",
       "    </tr>\n",
       "    <tr>\n",
       "      <th>3</th>\n",
       "      <td>Africa</td>\n",
       "      <td>Algeria</td>\n",
       "      <td>Algiers</td>\n",
       "      <td>1</td>\n",
       "      <td>4</td>\n",
       "      <td>1995</td>\n",
       "      <td>8.000000</td>\n",
       "    </tr>\n",
       "    <tr>\n",
       "      <th>4</th>\n",
       "      <td>Africa</td>\n",
       "      <td>Algeria</td>\n",
       "      <td>Algiers</td>\n",
       "      <td>1</td>\n",
       "      <td>5</td>\n",
       "      <td>1995</td>\n",
       "      <td>8.833333</td>\n",
       "    </tr>\n",
       "  </tbody>\n",
       "</table>\n",
       "</div>"
      ],
      "text/plain": [
       "   Region  Country     City  Month  Day  Year  AvgTemperature\n",
       "0  Africa  Algeria  Algiers      1    1  1995       17.888889\n",
       "1  Africa  Algeria  Algiers      1    2  1995        9.666667\n",
       "2  Africa  Algeria  Algiers      1    3  1995        9.333333\n",
       "3  Africa  Algeria  Algiers      1    4  1995        8.000000\n",
       "4  Africa  Algeria  Algiers      1    5  1995        8.833333"
      ]
     },
     "execution_count": 6,
     "metadata": {},
     "output_type": "execute_result"
    }
   ],
   "source": [
    "df = df.drop(\"State\",axis=1)\n",
    "df.loc[df['Year']==200,'Year'] = 2000\n",
    "df.loc[df['Year']==201,'Year'] = 2010\n",
    "df['AvgTemperature'] = df['AvgTemperature'].apply(lambda x: ((x-32) * 5/9))\n",
    "df.head()"
   ]
  },
  {
   "cell_type": "markdown",
   "metadata": {
    "pycharm": {
     "name": "#%% md\n"
    }
   },
   "source": [
    "### EDA"
   ]
  },
  {
   "cell_type": "code",
   "execution_count": 63,
   "metadata": {},
   "outputs": [
    {
     "data": {
      "text/plain": "<pandas.io.formats.style.Styler at 0x1ef31c71940>",
      "text/html": "<style  type=\"text/css\" >\n    #T_0160f07a_b3de_11ea_86c0_00155d70113arow0_col1 {\n            background-color:  #67000d;\n            color:  #f1f1f1;\n        }    #T_0160f07a_b3de_11ea_86c0_00155d70113arow1_col1 {\n            background-color:  #d01d1f;\n            color:  #f1f1f1;\n        }    #T_0160f07a_b3de_11ea_86c0_00155d70113arow2_col1 {\n            background-color:  #d52221;\n            color:  #f1f1f1;\n        }    #T_0160f07a_b3de_11ea_86c0_00155d70113arow3_col1 {\n            background-color:  #e32f27;\n            color:  #f1f1f1;\n        }    #T_0160f07a_b3de_11ea_86c0_00155d70113arow4_col1 {\n            background-color:  #fc8b6b;\n            color:  #000000;\n        }    #T_0160f07a_b3de_11ea_86c0_00155d70113arow5_col1 {\n            background-color:  #fca689;\n            color:  #000000;\n        }    #T_0160f07a_b3de_11ea_86c0_00155d70113arow6_col1 {\n            background-color:  #fff5f0;\n            color:  #000000;\n        }</style><table id=\"T_0160f07a_b3de_11ea_86c0_00155d70113a\" ><thead>    <tr>        <th class=\"blank level0\" ></th>        <th class=\"col_heading level0 col0\" >Region</th>        <th class=\"col_heading level0 col1\" >AvgTemperature</th>    </tr></thead><tbody>\n                <tr>\n                        <th id=\"T_0160f07a_b3de_11ea_86c0_00155d70113alevel0_row0\" class=\"row_heading level0 row0\" >4</th>\n                        <td id=\"T_0160f07a_b3de_11ea_86c0_00155d70113arow0_col0\" class=\"data row0 col0\" >Middle East</td>\n                        <td id=\"T_0160f07a_b3de_11ea_86c0_00155d70113arow0_col1\" class=\"data row0 col1\" >20.213641</td>\n            </tr>\n            <tr>\n                        <th id=\"T_0160f07a_b3de_11ea_86c0_00155d70113alevel0_row1\" class=\"row_heading level0 row1\" >1</th>\n                        <td id=\"T_0160f07a_b3de_11ea_86c0_00155d70113arow1_col0\" class=\"data row1 col0\" >Asia</td>\n                        <td id=\"T_0160f07a_b3de_11ea_86c0_00155d70113arow1_col1\" class=\"data row1 col1\" >16.982584</td>\n            </tr>\n            <tr>\n                        <th id=\"T_0160f07a_b3de_11ea_86c0_00155d70113alevel0_row2\" class=\"row_heading level0 row2\" >6</th>\n                        <td id=\"T_0160f07a_b3de_11ea_86c0_00155d70113arow2_col0\" class=\"data row2 col0\" >South/Central America & Carribean</td>\n                        <td id=\"T_0160f07a_b3de_11ea_86c0_00155d70113arow2_col1\" class=\"data row2 col1\" >16.771910</td>\n            </tr>\n            <tr>\n                        <th id=\"T_0160f07a_b3de_11ea_86c0_00155d70113alevel0_row3\" class=\"row_heading level0 row3\" >2</th>\n                        <td id=\"T_0160f07a_b3de_11ea_86c0_00155d70113arow3_col0\" class=\"data row3 col0\" >Australia/South Pacific</td>\n                        <td id=\"T_0160f07a_b3de_11ea_86c0_00155d70113arow3_col1\" class=\"data row3 col1\" >16.211594</td>\n            </tr>\n            <tr>\n                        <th id=\"T_0160f07a_b3de_11ea_86c0_00155d70113alevel0_row4\" class=\"row_heading level0 row4\" >5</th>\n                        <td id=\"T_0160f07a_b3de_11ea_86c0_00155d70113arow4_col0\" class=\"data row4 col0\" >North America</td>\n                        <td id=\"T_0160f07a_b3de_11ea_86c0_00155d70113arow4_col1\" class=\"data row4 col1\" >12.944963</td>\n            </tr>\n            <tr>\n                        <th id=\"T_0160f07a_b3de_11ea_86c0_00155d70113alevel0_row5\" class=\"row_heading level0 row5\" >0</th>\n                        <td id=\"T_0160f07a_b3de_11ea_86c0_00155d70113arow5_col0\" class=\"data row5 col0\" >Africa</td>\n                        <td id=\"T_0160f07a_b3de_11ea_86c0_00155d70113arow5_col1\" class=\"data row5 col1\" >11.971954</td>\n            </tr>\n            <tr>\n                        <th id=\"T_0160f07a_b3de_11ea_86c0_00155d70113alevel0_row6\" class=\"row_heading level0 row6\" >3</th>\n                        <td id=\"T_0160f07a_b3de_11ea_86c0_00155d70113arow6_col0\" class=\"data row6 col0\" >Europe</td>\n                        <td id=\"T_0160f07a_b3de_11ea_86c0_00155d70113arow6_col1\" class=\"data row6 col1\" >8.164603</td>\n            </tr>\n    </tbody></table>"
     },
     "execution_count": 63,
     "metadata": {},
     "output_type": "execute_result"
    }
   ],
   "source": [
    "regions = df.groupby([\"Region\"])[\"AvgTemperature\"].mean().reset_index()\\\n",
    "    .sort_values(by='AvgTemperature',ascending=False)\n",
    "regions.style.background_gradient(cmap='Reds')"
   ]
  },
  {
   "cell_type": "code",
   "execution_count": 66,
   "metadata": {
    "pycharm": {
     "name": "#%%\n"
    }
   },
   "outputs": [
    {
     "data": {
      "text/plain": "<Figure size 1440x576 with 1 Axes>",
      "image/png": "[encoded data removed]"
     },
     "metadata": {},
     "output_type": "display_data"
    }
   ],
   "source": [
    "sns.set(style='whitegrid',rc={'figure.figsize':(20,8)})\n",
    "ax = sns.barplot(x=regions.Region,y=regions.AvgTemperature,palette='RdBu')\n",
    "plt.show()"
   ]
  },
  {
   "cell_type": "code",
   "execution_count": null,
   "outputs": [],
   "source": [],
   "metadata": {
    "collapsed": false,
    "pycharm": {
     "name": "#%%\n"
    }
   }
  }
 ],
 "metadata": {
  "kernelspec": {
   "display_name": "Python 3",
   "language": "python",
   "name": "python3"
  },
  "language_info": {
   "codemirror_mode": {
    "name": "ipython",
    "version": 3
   },
   "file_extension": ".py",
   "mimetype": "text/x-python",
   "name": "python",
   "nbconvert_exporter": "python",
   "pygments_lexer": "ipython3",
   "version": "3.8.2"
  }
 },
 "nbformat": 4,
 "nbformat_minor": 1
}